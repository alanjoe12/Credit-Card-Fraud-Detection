{
 "cells": [
  {
   "cell_type": "markdown",
   "id": "97d0364b",
   "metadata": {},
   "source": [
    "# Credit Card Fraud Detection"
   ]
  },
  {
   "cell_type": "markdown",
   "id": "83109321",
   "metadata": {},
   "source": [
    "# 4. Features\n",
    "\n",
    "## Inputs / Features\n",
    "\n",
    "    1. Time -Number of seconds elapsed between this transaction and the first transaction in the dataset\n",
    "    \n",
    "     may be result of a PCA Dimensionality reduction to protect user identities and sensitive features(v1-v28)\n",
    "    2. V1\n",
    "    3. V2\n",
    "    4. V3\n",
    "    5. V4\n",
    "    6. V5\n",
    "    7. V6\n",
    "    8. V7\n",
    "    9. V8\n",
    "    10. V9\n",
    "    11. V10\n",
    "    12. V11\n",
    "    13. V12\n",
    "    14. V13\n",
    "    15. V14\n",
    "    16. V15\n",
    "    17. V16\n",
    "    18. V17\n",
    "    19. V18\n",
    "    20. V19\n",
    "    21. V20\n",
    "    22. V21\n",
    "    23. V22\n",
    "    24. V23\n",
    "    25. V24\n",
    "    26. V25\n",
    "    27. V26\n",
    "    28. V27\n",
    "    29. V28\n",
    "    30. Amount - Transaction amount\n",
    "    \n",
    "## Output / Label\n",
    "    31. Class1 for fraudulent transactions, 0 otherwise"
   ]
  },
  {
   "cell_type": "code",
   "execution_count": 1,
   "id": "85f4174f",
   "metadata": {},
   "outputs": [],
   "source": [
    "import pandas as pd\n",
    "import numpy as np\n",
    "import matplotlib.pyplot as plt\n",
    "%matplotlib inline\n",
    "import seaborn as sns\n",
    "pd.pandas.set_option('display.max_columns',None)\n",
    "import warnings\n",
    "warnings.filterwarnings('ignore')"
   ]
  },
  {
   "cell_type": "code",
   "execution_count": 2,
   "id": "443b548d",
   "metadata": {},
   "outputs": [
    {
     "data": {
      "text/html": [
       "<div>\n",
       "<style scoped>\n",
       "    .dataframe tbody tr th:only-of-type {\n",
       "        vertical-align: middle;\n",
       "    }\n",
       "\n",
       "    .dataframe tbody tr th {\n",
       "        vertical-align: top;\n",
       "    }\n",
       "\n",
       "    .dataframe thead th {\n",
       "        text-align: right;\n",
       "    }\n",
       "</style>\n",
       "<table border=\"1\" class=\"dataframe\">\n",
       "  <thead>\n",
       "    <tr style=\"text-align: right;\">\n",
       "      <th></th>\n",
       "      <th>Time</th>\n",
       "      <th>V1</th>\n",
       "      <th>V2</th>\n",
       "      <th>V3</th>\n",
       "      <th>V4</th>\n",
       "      <th>V5</th>\n",
       "      <th>V6</th>\n",
       "      <th>V7</th>\n",
       "      <th>V8</th>\n",
       "      <th>V9</th>\n",
       "      <th>V10</th>\n",
       "      <th>V11</th>\n",
       "      <th>V12</th>\n",
       "      <th>V13</th>\n",
       "      <th>V14</th>\n",
       "      <th>V15</th>\n",
       "      <th>V16</th>\n",
       "      <th>V17</th>\n",
       "      <th>V18</th>\n",
       "      <th>V19</th>\n",
       "      <th>V20</th>\n",
       "      <th>V21</th>\n",
       "      <th>V22</th>\n",
       "      <th>V23</th>\n",
       "      <th>V24</th>\n",
       "      <th>V25</th>\n",
       "      <th>V26</th>\n",
       "      <th>V27</th>\n",
       "      <th>V28</th>\n",
       "      <th>Amount</th>\n",
       "      <th>Class</th>\n",
       "    </tr>\n",
       "  </thead>\n",
       "  <tbody>\n",
       "    <tr>\n",
       "      <th>0</th>\n",
       "      <td>0.0</td>\n",
       "      <td>-1.359807</td>\n",
       "      <td>-0.072781</td>\n",
       "      <td>2.536347</td>\n",
       "      <td>1.378155</td>\n",
       "      <td>-0.338321</td>\n",
       "      <td>0.462388</td>\n",
       "      <td>0.239599</td>\n",
       "      <td>0.098698</td>\n",
       "      <td>0.363787</td>\n",
       "      <td>0.090794</td>\n",
       "      <td>-0.551600</td>\n",
       "      <td>-0.617801</td>\n",
       "      <td>-0.991390</td>\n",
       "      <td>-0.311169</td>\n",
       "      <td>1.468177</td>\n",
       "      <td>-0.470401</td>\n",
       "      <td>0.207971</td>\n",
       "      <td>0.025791</td>\n",
       "      <td>0.403993</td>\n",
       "      <td>0.251412</td>\n",
       "      <td>-0.018307</td>\n",
       "      <td>0.277838</td>\n",
       "      <td>-0.110474</td>\n",
       "      <td>0.066928</td>\n",
       "      <td>0.128539</td>\n",
       "      <td>-0.189115</td>\n",
       "      <td>0.133558</td>\n",
       "      <td>-0.021053</td>\n",
       "      <td>149.62</td>\n",
       "      <td>0</td>\n",
       "    </tr>\n",
       "    <tr>\n",
       "      <th>1</th>\n",
       "      <td>0.0</td>\n",
       "      <td>1.191857</td>\n",
       "      <td>0.266151</td>\n",
       "      <td>0.166480</td>\n",
       "      <td>0.448154</td>\n",
       "      <td>0.060018</td>\n",
       "      <td>-0.082361</td>\n",
       "      <td>-0.078803</td>\n",
       "      <td>0.085102</td>\n",
       "      <td>-0.255425</td>\n",
       "      <td>-0.166974</td>\n",
       "      <td>1.612727</td>\n",
       "      <td>1.065235</td>\n",
       "      <td>0.489095</td>\n",
       "      <td>-0.143772</td>\n",
       "      <td>0.635558</td>\n",
       "      <td>0.463917</td>\n",
       "      <td>-0.114805</td>\n",
       "      <td>-0.183361</td>\n",
       "      <td>-0.145783</td>\n",
       "      <td>-0.069083</td>\n",
       "      <td>-0.225775</td>\n",
       "      <td>-0.638672</td>\n",
       "      <td>0.101288</td>\n",
       "      <td>-0.339846</td>\n",
       "      <td>0.167170</td>\n",
       "      <td>0.125895</td>\n",
       "      <td>-0.008983</td>\n",
       "      <td>0.014724</td>\n",
       "      <td>2.69</td>\n",
       "      <td>0</td>\n",
       "    </tr>\n",
       "    <tr>\n",
       "      <th>2</th>\n",
       "      <td>1.0</td>\n",
       "      <td>-1.358354</td>\n",
       "      <td>-1.340163</td>\n",
       "      <td>1.773209</td>\n",
       "      <td>0.379780</td>\n",
       "      <td>-0.503198</td>\n",
       "      <td>1.800499</td>\n",
       "      <td>0.791461</td>\n",
       "      <td>0.247676</td>\n",
       "      <td>-1.514654</td>\n",
       "      <td>0.207643</td>\n",
       "      <td>0.624501</td>\n",
       "      <td>0.066084</td>\n",
       "      <td>0.717293</td>\n",
       "      <td>-0.165946</td>\n",
       "      <td>2.345865</td>\n",
       "      <td>-2.890083</td>\n",
       "      <td>1.109969</td>\n",
       "      <td>-0.121359</td>\n",
       "      <td>-2.261857</td>\n",
       "      <td>0.524980</td>\n",
       "      <td>0.247998</td>\n",
       "      <td>0.771679</td>\n",
       "      <td>0.909412</td>\n",
       "      <td>-0.689281</td>\n",
       "      <td>-0.327642</td>\n",
       "      <td>-0.139097</td>\n",
       "      <td>-0.055353</td>\n",
       "      <td>-0.059752</td>\n",
       "      <td>378.66</td>\n",
       "      <td>0</td>\n",
       "    </tr>\n",
       "    <tr>\n",
       "      <th>3</th>\n",
       "      <td>1.0</td>\n",
       "      <td>-0.966272</td>\n",
       "      <td>-0.185226</td>\n",
       "      <td>1.792993</td>\n",
       "      <td>-0.863291</td>\n",
       "      <td>-0.010309</td>\n",
       "      <td>1.247203</td>\n",
       "      <td>0.237609</td>\n",
       "      <td>0.377436</td>\n",
       "      <td>-1.387024</td>\n",
       "      <td>-0.054952</td>\n",
       "      <td>-0.226487</td>\n",
       "      <td>0.178228</td>\n",
       "      <td>0.507757</td>\n",
       "      <td>-0.287924</td>\n",
       "      <td>-0.631418</td>\n",
       "      <td>-1.059647</td>\n",
       "      <td>-0.684093</td>\n",
       "      <td>1.965775</td>\n",
       "      <td>-1.232622</td>\n",
       "      <td>-0.208038</td>\n",
       "      <td>-0.108300</td>\n",
       "      <td>0.005274</td>\n",
       "      <td>-0.190321</td>\n",
       "      <td>-1.175575</td>\n",
       "      <td>0.647376</td>\n",
       "      <td>-0.221929</td>\n",
       "      <td>0.062723</td>\n",
       "      <td>0.061458</td>\n",
       "      <td>123.50</td>\n",
       "      <td>0</td>\n",
       "    </tr>\n",
       "    <tr>\n",
       "      <th>4</th>\n",
       "      <td>2.0</td>\n",
       "      <td>-1.158233</td>\n",
       "      <td>0.877737</td>\n",
       "      <td>1.548718</td>\n",
       "      <td>0.403034</td>\n",
       "      <td>-0.407193</td>\n",
       "      <td>0.095921</td>\n",
       "      <td>0.592941</td>\n",
       "      <td>-0.270533</td>\n",
       "      <td>0.817739</td>\n",
       "      <td>0.753074</td>\n",
       "      <td>-0.822843</td>\n",
       "      <td>0.538196</td>\n",
       "      <td>1.345852</td>\n",
       "      <td>-1.119670</td>\n",
       "      <td>0.175121</td>\n",
       "      <td>-0.451449</td>\n",
       "      <td>-0.237033</td>\n",
       "      <td>-0.038195</td>\n",
       "      <td>0.803487</td>\n",
       "      <td>0.408542</td>\n",
       "      <td>-0.009431</td>\n",
       "      <td>0.798278</td>\n",
       "      <td>-0.137458</td>\n",
       "      <td>0.141267</td>\n",
       "      <td>-0.206010</td>\n",
       "      <td>0.502292</td>\n",
       "      <td>0.219422</td>\n",
       "      <td>0.215153</td>\n",
       "      <td>69.99</td>\n",
       "      <td>0</td>\n",
       "    </tr>\n",
       "  </tbody>\n",
       "</table>\n",
       "</div>"
      ],
      "text/plain": [
       "   Time        V1        V2        V3        V4        V5        V6        V7  \\\n",
       "0   0.0 -1.359807 -0.072781  2.536347  1.378155 -0.338321  0.462388  0.239599   \n",
       "1   0.0  1.191857  0.266151  0.166480  0.448154  0.060018 -0.082361 -0.078803   \n",
       "2   1.0 -1.358354 -1.340163  1.773209  0.379780 -0.503198  1.800499  0.791461   \n",
       "3   1.0 -0.966272 -0.185226  1.792993 -0.863291 -0.010309  1.247203  0.237609   \n",
       "4   2.0 -1.158233  0.877737  1.548718  0.403034 -0.407193  0.095921  0.592941   \n",
       "\n",
       "         V8        V9       V10       V11       V12       V13       V14  \\\n",
       "0  0.098698  0.363787  0.090794 -0.551600 -0.617801 -0.991390 -0.311169   \n",
       "1  0.085102 -0.255425 -0.166974  1.612727  1.065235  0.489095 -0.143772   \n",
       "2  0.247676 -1.514654  0.207643  0.624501  0.066084  0.717293 -0.165946   \n",
       "3  0.377436 -1.387024 -0.054952 -0.226487  0.178228  0.507757 -0.287924   \n",
       "4 -0.270533  0.817739  0.753074 -0.822843  0.538196  1.345852 -1.119670   \n",
       "\n",
       "        V15       V16       V17       V18       V19       V20       V21  \\\n",
       "0  1.468177 -0.470401  0.207971  0.025791  0.403993  0.251412 -0.018307   \n",
       "1  0.635558  0.463917 -0.114805 -0.183361 -0.145783 -0.069083 -0.225775   \n",
       "2  2.345865 -2.890083  1.109969 -0.121359 -2.261857  0.524980  0.247998   \n",
       "3 -0.631418 -1.059647 -0.684093  1.965775 -1.232622 -0.208038 -0.108300   \n",
       "4  0.175121 -0.451449 -0.237033 -0.038195  0.803487  0.408542 -0.009431   \n",
       "\n",
       "        V22       V23       V24       V25       V26       V27       V28  \\\n",
       "0  0.277838 -0.110474  0.066928  0.128539 -0.189115  0.133558 -0.021053   \n",
       "1 -0.638672  0.101288 -0.339846  0.167170  0.125895 -0.008983  0.014724   \n",
       "2  0.771679  0.909412 -0.689281 -0.327642 -0.139097 -0.055353 -0.059752   \n",
       "3  0.005274 -0.190321 -1.175575  0.647376 -0.221929  0.062723  0.061458   \n",
       "4  0.798278 -0.137458  0.141267 -0.206010  0.502292  0.219422  0.215153   \n",
       "\n",
       "   Amount  Class  \n",
       "0  149.62      0  \n",
       "1    2.69      0  \n",
       "2  378.66      0  \n",
       "3  123.50      0  \n",
       "4   69.99      0  "
      ]
     },
     "execution_count": 2,
     "metadata": {},
     "output_type": "execute_result"
    }
   ],
   "source": [
    "df = pd.read_csv('creditcard.csv')\n",
    "\n",
    "df.head()"
   ]
  },
  {
   "cell_type": "code",
   "execution_count": 3,
   "id": "90f5bd81",
   "metadata": {},
   "outputs": [
    {
     "name": "stdout",
     "output_type": "stream",
     "text": [
      "<class 'pandas.core.frame.DataFrame'>\n",
      "RangeIndex: 284807 entries, 0 to 284806\n",
      "Data columns (total 31 columns):\n",
      " #   Column  Non-Null Count   Dtype  \n",
      "---  ------  --------------   -----  \n",
      " 0   Time    284807 non-null  float64\n",
      " 1   V1      284807 non-null  float64\n",
      " 2   V2      284807 non-null  float64\n",
      " 3   V3      284807 non-null  float64\n",
      " 4   V4      284807 non-null  float64\n",
      " 5   V5      284807 non-null  float64\n",
      " 6   V6      284807 non-null  float64\n",
      " 7   V7      284807 non-null  float64\n",
      " 8   V8      284807 non-null  float64\n",
      " 9   V9      284807 non-null  float64\n",
      " 10  V10     284807 non-null  float64\n",
      " 11  V11     284807 non-null  float64\n",
      " 12  V12     284807 non-null  float64\n",
      " 13  V13     284807 non-null  float64\n",
      " 14  V14     284807 non-null  float64\n",
      " 15  V15     284807 non-null  float64\n",
      " 16  V16     284807 non-null  float64\n",
      " 17  V17     284807 non-null  float64\n",
      " 18  V18     284807 non-null  float64\n",
      " 19  V19     284807 non-null  float64\n",
      " 20  V20     284807 non-null  float64\n",
      " 21  V21     284807 non-null  float64\n",
      " 22  V22     284807 non-null  float64\n",
      " 23  V23     284807 non-null  float64\n",
      " 24  V24     284807 non-null  float64\n",
      " 25  V25     284807 non-null  float64\n",
      " 26  V26     284807 non-null  float64\n",
      " 27  V27     284807 non-null  float64\n",
      " 28  V28     284807 non-null  float64\n",
      " 29  Amount  284807 non-null  float64\n",
      " 30  Class   284807 non-null  int64  \n",
      "dtypes: float64(30), int64(1)\n",
      "memory usage: 67.4 MB\n"
     ]
    }
   ],
   "source": [
    "df.info()"
   ]
  },
  {
   "cell_type": "code",
   "execution_count": 4,
   "id": "7ef60ac2",
   "metadata": {},
   "outputs": [
    {
     "data": {
      "text/plain": [
       "Text(0, 0.5, 'Frequency')"
      ]
     },
     "execution_count": 4,
     "metadata": {},
     "output_type": "execute_result"
    },
    {
     "data": {
      "image/png": "[encoded data removed]",
      "text/plain": [
       "<Figure size 432x288 with 1 Axes>"
      ]
     },
     "metadata": {
      "needs_background": "light"
     },
     "output_type": "display_data"
    }
   ],
   "source": [
    "LABELS = [\"Normal\", \"Fraud\"]\n",
    "count_classes = pd.value_counts(df['Class'], sort = True)\n",
    "count_classes.plot(kind = 'bar', rot=0)\n",
    "plt.title(\"Transaction Class Distribution\")\n",
    "plt.xticks(range(2), LABELS)\n",
    "plt.xlabel(\"Class\")\n",
    "plt.ylabel(\"Frequency\")"
   ]
  },
  {
   "cell_type": "code",
   "execution_count": 5,
   "id": "22234769",
   "metadata": {},
   "outputs": [
    {
     "data": {
      "text/plain": [
       "0    284315\n",
       "1       492\n",
       "Name: Class, dtype: int64"
      ]
     },
     "execution_count": 5,
     "metadata": {},
     "output_type": "execute_result"
    }
   ],
   "source": [
    "df['Class'].value_counts()"
   ]
  },
  {
   "cell_type": "markdown",
   "id": "04d7a81c",
   "metadata": {},
   "source": [
    "This Dataset is highly unblanced\n",
    "\n",
    "0 --> Normal Transaction\n",
    "\n",
    "1 --> fraudulent transaction"
   ]
  },
  {
   "cell_type": "code",
   "execution_count": 8,
   "id": "6e798d40",
   "metadata": {},
   "outputs": [],
   "source": [
    "legit = df[df.Class == 0]\n",
    "fraud = df[df.Class == 1]"
   ]
  },
  {
   "cell_type": "code",
   "execution_count": 9,
   "id": "b41223c0",
   "metadata": {},
   "outputs": [
    {
     "name": "stdout",
     "output_type": "stream",
     "text": [
      "(284315, 31)\n",
      "(492, 31)\n"
     ]
    }
   ],
   "source": [
    "print(legit.shape)\n",
    "print(fraud.shape)"
   ]
  },
  {
   "cell_type": "code",
   "execution_count": 10,
   "id": "3eb5c4cd",
   "metadata": {},
   "outputs": [
    {
     "data": {
      "text/plain": [
       "count    284315.000000\n",
       "mean         88.291022\n",
       "std         250.105092\n",
       "min           0.000000\n",
       "25%           5.650000\n",
       "50%          22.000000\n",
       "75%          77.050000\n",
       "max       25691.160000\n",
       "Name: Amount, dtype: float64"
      ]
     },
     "execution_count": 10,
     "metadata": {},
     "output_type": "execute_result"
    }
   ],
   "source": [
    "# statistical measures of the data\n",
    "legit.Amount.describe()"
   ]
  },
  {
   "cell_type": "code",
   "execution_count": 11,
   "id": "0ad7c34c",
   "metadata": {},
   "outputs": [
    {
     "data": {
      "text/plain": [
       "count     492.000000\n",
       "mean      122.211321\n",
       "std       256.683288\n",
       "min         0.000000\n",
       "25%         1.000000\n",
       "50%         9.250000\n",
       "75%       105.890000\n",
       "max      2125.870000\n",
       "Name: Amount, dtype: float64"
      ]
     },
     "execution_count": 11,
     "metadata": {},
     "output_type": "execute_result"
    }
   ],
   "source": [
    "fraud.Amount.describe()"
   ]
  },
  {
   "cell_type": "code",
   "execution_count": 12,
   "id": "db8f1d38",
   "metadata": {},
   "outputs": [
    {
     "data": {
      "text/html": [
       "<div>\n",
       "<style scoped>\n",
       "    .dataframe tbody tr th:only-of-type {\n",
       "        vertical-align: middle;\n",
       "    }\n",
       "\n",
       "    .dataframe tbody tr th {\n",
       "        vertical-align: top;\n",
       "    }\n",
       "\n",
       "    .dataframe thead th {\n",
       "        text-align: right;\n",
       "    }\n",
       "</style>\n",
       "<table border=\"1\" class=\"dataframe\">\n",
       "  <thead>\n",
       "    <tr style=\"text-align: right;\">\n",
       "      <th></th>\n",
       "      <th>Time</th>\n",
       "      <th>V1</th>\n",
       "      <th>V2</th>\n",
       "      <th>V3</th>\n",
       "      <th>V4</th>\n",
       "      <th>V5</th>\n",
       "      <th>V6</th>\n",
       "      <th>V7</th>\n",
       "      <th>V8</th>\n",
       "      <th>V9</th>\n",
       "      <th>V10</th>\n",
       "      <th>V11</th>\n",
       "      <th>V12</th>\n",
       "      <th>V13</th>\n",
       "      <th>V14</th>\n",
       "      <th>V15</th>\n",
       "      <th>V16</th>\n",
       "      <th>V17</th>\n",
       "      <th>V18</th>\n",
       "      <th>V19</th>\n",
       "      <th>V20</th>\n",
       "      <th>V21</th>\n",
       "      <th>V22</th>\n",
       "      <th>V23</th>\n",
       "      <th>V24</th>\n",
       "      <th>V25</th>\n",
       "      <th>V26</th>\n",
       "      <th>V27</th>\n",
       "      <th>V28</th>\n",
       "      <th>Amount</th>\n",
       "    </tr>\n",
       "    <tr>\n",
       "      <th>Class</th>\n",
       "      <th></th>\n",
       "      <th></th>\n",
       "      <th></th>\n",
       "      <th></th>\n",
       "      <th></th>\n",
       "      <th></th>\n",
       "      <th></th>\n",
       "      <th></th>\n",
       "      <th></th>\n",
       "      <th></th>\n",
       "      <th></th>\n",
       "      <th></th>\n",
       "      <th></th>\n",
       "      <th></th>\n",
       "      <th></th>\n",
       "      <th></th>\n",
       "      <th></th>\n",
       "      <th></th>\n",
       "      <th></th>\n",
       "      <th></th>\n",
       "      <th></th>\n",
       "      <th></th>\n",
       "      <th></th>\n",
       "      <th></th>\n",
       "      <th></th>\n",
       "      <th></th>\n",
       "      <th></th>\n",
       "      <th></th>\n",
       "      <th></th>\n",
       "      <th></th>\n",
       "    </tr>\n",
       "  </thead>\n",
       "  <tbody>\n",
       "    <tr>\n",
       "      <th>0</th>\n",
       "      <td>94838.202258</td>\n",
       "      <td>0.008258</td>\n",
       "      <td>-0.006271</td>\n",
       "      <td>0.012171</td>\n",
       "      <td>-0.007860</td>\n",
       "      <td>0.005453</td>\n",
       "      <td>0.002419</td>\n",
       "      <td>0.009637</td>\n",
       "      <td>-0.000987</td>\n",
       "      <td>0.004467</td>\n",
       "      <td>0.009824</td>\n",
       "      <td>-0.006576</td>\n",
       "      <td>0.010832</td>\n",
       "      <td>0.000189</td>\n",
       "      <td>0.012064</td>\n",
       "      <td>0.000161</td>\n",
       "      <td>0.007164</td>\n",
       "      <td>0.011535</td>\n",
       "      <td>0.003887</td>\n",
       "      <td>-0.001178</td>\n",
       "      <td>-0.000644</td>\n",
       "      <td>-0.001235</td>\n",
       "      <td>-0.000024</td>\n",
       "      <td>0.000070</td>\n",
       "      <td>0.000182</td>\n",
       "      <td>-0.000072</td>\n",
       "      <td>-0.000089</td>\n",
       "      <td>-0.000295</td>\n",
       "      <td>-0.000131</td>\n",
       "      <td>88.291022</td>\n",
       "    </tr>\n",
       "    <tr>\n",
       "      <th>1</th>\n",
       "      <td>80746.806911</td>\n",
       "      <td>-4.771948</td>\n",
       "      <td>3.623778</td>\n",
       "      <td>-7.033281</td>\n",
       "      <td>4.542029</td>\n",
       "      <td>-3.151225</td>\n",
       "      <td>-1.397737</td>\n",
       "      <td>-5.568731</td>\n",
       "      <td>0.570636</td>\n",
       "      <td>-2.581123</td>\n",
       "      <td>-5.676883</td>\n",
       "      <td>3.800173</td>\n",
       "      <td>-6.259393</td>\n",
       "      <td>-0.109334</td>\n",
       "      <td>-6.971723</td>\n",
       "      <td>-0.092929</td>\n",
       "      <td>-4.139946</td>\n",
       "      <td>-6.665836</td>\n",
       "      <td>-2.246308</td>\n",
       "      <td>0.680659</td>\n",
       "      <td>0.372319</td>\n",
       "      <td>0.713588</td>\n",
       "      <td>0.014049</td>\n",
       "      <td>-0.040308</td>\n",
       "      <td>-0.105130</td>\n",
       "      <td>0.041449</td>\n",
       "      <td>0.051648</td>\n",
       "      <td>0.170575</td>\n",
       "      <td>0.075667</td>\n",
       "      <td>122.211321</td>\n",
       "    </tr>\n",
       "  </tbody>\n",
       "</table>\n",
       "</div>"
      ],
      "text/plain": [
       "               Time        V1        V2        V3        V4        V5  \\\n",
       "Class                                                                   \n",
       "0      94838.202258  0.008258 -0.006271  0.012171 -0.007860  0.005453   \n",
       "1      80746.806911 -4.771948  3.623778 -7.033281  4.542029 -3.151225   \n",
       "\n",
       "             V6        V7        V8        V9       V10       V11       V12  \\\n",
       "Class                                                                         \n",
       "0      0.002419  0.009637 -0.000987  0.004467  0.009824 -0.006576  0.010832   \n",
       "1     -1.397737 -5.568731  0.570636 -2.581123 -5.676883  3.800173 -6.259393   \n",
       "\n",
       "            V13       V14       V15       V16       V17       V18       V19  \\\n",
       "Class                                                                         \n",
       "0      0.000189  0.012064  0.000161  0.007164  0.011535  0.003887 -0.001178   \n",
       "1     -0.109334 -6.971723 -0.092929 -4.139946 -6.665836 -2.246308  0.680659   \n",
       "\n",
       "            V20       V21       V22       V23       V24       V25       V26  \\\n",
       "Class                                                                         \n",
       "0     -0.000644 -0.001235 -0.000024  0.000070  0.000182 -0.000072 -0.000089   \n",
       "1      0.372319  0.713588  0.014049 -0.040308 -0.105130  0.041449  0.051648   \n",
       "\n",
       "            V27       V28      Amount  \n",
       "Class                                  \n",
       "0     -0.000295 -0.000131   88.291022  \n",
       "1      0.170575  0.075667  122.211321  "
      ]
     },
     "execution_count": 12,
     "metadata": {},
     "output_type": "execute_result"
    }
   ],
   "source": [
    "# compare the values for both transactions\n",
    "df.groupby('Class').mean()"
   ]
  },
  {
   "cell_type": "markdown",
   "id": "a3b33884",
   "metadata": {},
   "source": [
    "Under-Sampling\n",
    "\n",
    "Build a sample dataset containing similar distribution of normal transactions and Fraudulent Transactions\n",
    "\n",
    "Number of Fraudulent Transactions --> 492"
   ]
  },
  {
   "cell_type": "code",
   "execution_count": 13,
   "id": "143e1800",
   "metadata": {},
   "outputs": [],
   "source": [
    "legit_sample = legit.sample(n=492)"
   ]
  },
  {
   "cell_type": "markdown",
   "id": "a2d86366",
   "metadata": {},
   "source": [
    "Concatenating two DataFrames"
   ]
  },
  {
   "cell_type": "code",
   "execution_count": 14,
   "id": "56f75b0f",
   "metadata": {},
   "outputs": [],
   "source": [
    "new_dataset = pd.concat([legit_sample, fraud], axis=0)"
   ]
  },
  {
   "cell_type": "code",
   "execution_count": 15,
   "id": "4815ce9f",
   "metadata": {},
   "outputs": [
    {
     "data": {
      "text/html": [
       "<div>\n",
       "<style scoped>\n",
       "    .dataframe tbody tr th:only-of-type {\n",
       "        vertical-align: middle;\n",
       "    }\n",
       "\n",
       "    .dataframe tbody tr th {\n",
       "        vertical-align: top;\n",
       "    }\n",
       "\n",
       "    .dataframe thead th {\n",
       "        text-align: right;\n",
       "    }\n",
       "</style>\n",
       "<table border=\"1\" class=\"dataframe\">\n",
       "  <thead>\n",
       "    <tr style=\"text-align: right;\">\n",
       "      <th></th>\n",
       "      <th>Time</th>\n",
       "      <th>V1</th>\n",
       "      <th>V2</th>\n",
       "      <th>V3</th>\n",
       "      <th>V4</th>\n",
       "      <th>V5</th>\n",
       "      <th>V6</th>\n",
       "      <th>V7</th>\n",
       "      <th>V8</th>\n",
       "      <th>V9</th>\n",
       "      <th>V10</th>\n",
       "      <th>V11</th>\n",
       "      <th>V12</th>\n",
       "      <th>V13</th>\n",
       "      <th>V14</th>\n",
       "      <th>V15</th>\n",
       "      <th>V16</th>\n",
       "      <th>V17</th>\n",
       "      <th>V18</th>\n",
       "      <th>V19</th>\n",
       "      <th>V20</th>\n",
       "      <th>V21</th>\n",
       "      <th>V22</th>\n",
       "      <th>V23</th>\n",
       "      <th>V24</th>\n",
       "      <th>V25</th>\n",
       "      <th>V26</th>\n",
       "      <th>V27</th>\n",
       "      <th>V28</th>\n",
       "      <th>Amount</th>\n",
       "      <th>Class</th>\n",
       "    </tr>\n",
       "  </thead>\n",
       "  <tbody>\n",
       "    <tr>\n",
       "      <th>282084</th>\n",
       "      <td>170643.0</td>\n",
       "      <td>-0.513035</td>\n",
       "      <td>1.588590</td>\n",
       "      <td>-0.315327</td>\n",
       "      <td>3.215408</td>\n",
       "      <td>1.101571</td>\n",
       "      <td>-0.377689</td>\n",
       "      <td>0.936047</td>\n",
       "      <td>0.245024</td>\n",
       "      <td>-1.906095</td>\n",
       "      <td>0.892176</td>\n",
       "      <td>-1.479236</td>\n",
       "      <td>-0.579995</td>\n",
       "      <td>-0.734827</td>\n",
       "      <td>0.777403</td>\n",
       "      <td>-1.624470</td>\n",
       "      <td>0.153412</td>\n",
       "      <td>-0.177476</td>\n",
       "      <td>-0.556451</td>\n",
       "      <td>-1.105617</td>\n",
       "      <td>-0.354584</td>\n",
       "      <td>0.235993</td>\n",
       "      <td>0.483079</td>\n",
       "      <td>0.101931</td>\n",
       "      <td>1.119802</td>\n",
       "      <td>-1.005809</td>\n",
       "      <td>-0.190188</td>\n",
       "      <td>-0.028427</td>\n",
       "      <td>0.195387</td>\n",
       "      <td>10.65</td>\n",
       "      <td>0</td>\n",
       "    </tr>\n",
       "    <tr>\n",
       "      <th>217003</th>\n",
       "      <td>140724.0</td>\n",
       "      <td>2.052141</td>\n",
       "      <td>-0.152083</td>\n",
       "      <td>-1.093007</td>\n",
       "      <td>0.421538</td>\n",
       "      <td>-0.226477</td>\n",
       "      <td>-1.159381</td>\n",
       "      <td>0.083787</td>\n",
       "      <td>-0.236712</td>\n",
       "      <td>0.733189</td>\n",
       "      <td>0.102199</td>\n",
       "      <td>-0.908253</td>\n",
       "      <td>-0.220054</td>\n",
       "      <td>-1.215880</td>\n",
       "      <td>0.535076</td>\n",
       "      <td>0.227417</td>\n",
       "      <td>-0.103904</td>\n",
       "      <td>-0.158764</td>\n",
       "      <td>-0.801972</td>\n",
       "      <td>0.082789</td>\n",
       "      <td>-0.312060</td>\n",
       "      <td>-0.297944</td>\n",
       "      <td>-0.780066</td>\n",
       "      <td>0.362093</td>\n",
       "      <td>-0.048148</td>\n",
       "      <td>-0.356691</td>\n",
       "      <td>0.205318</td>\n",
       "      <td>-0.075936</td>\n",
       "      <td>-0.063205</td>\n",
       "      <td>1.98</td>\n",
       "      <td>0</td>\n",
       "    </tr>\n",
       "    <tr>\n",
       "      <th>163319</th>\n",
       "      <td>115848.0</td>\n",
       "      <td>-0.935602</td>\n",
       "      <td>0.921283</td>\n",
       "      <td>0.763320</td>\n",
       "      <td>0.821401</td>\n",
       "      <td>0.871227</td>\n",
       "      <td>0.584041</td>\n",
       "      <td>0.840123</td>\n",
       "      <td>0.185507</td>\n",
       "      <td>-0.711876</td>\n",
       "      <td>-0.721229</td>\n",
       "      <td>0.642025</td>\n",
       "      <td>-0.335462</td>\n",
       "      <td>-0.918843</td>\n",
       "      <td>-0.798319</td>\n",
       "      <td>0.226182</td>\n",
       "      <td>0.275768</td>\n",
       "      <td>0.516931</td>\n",
       "      <td>1.327636</td>\n",
       "      <td>0.919857</td>\n",
       "      <td>0.090190</td>\n",
       "      <td>-0.029156</td>\n",
       "      <td>-0.154689</td>\n",
       "      <td>-0.360464</td>\n",
       "      <td>0.150339</td>\n",
       "      <td>0.647455</td>\n",
       "      <td>-0.427112</td>\n",
       "      <td>-0.027072</td>\n",
       "      <td>0.119150</td>\n",
       "      <td>92.45</td>\n",
       "      <td>0</td>\n",
       "    </tr>\n",
       "    <tr>\n",
       "      <th>197423</th>\n",
       "      <td>132008.0</td>\n",
       "      <td>2.057468</td>\n",
       "      <td>-1.283770</td>\n",
       "      <td>-0.703883</td>\n",
       "      <td>-0.898889</td>\n",
       "      <td>-1.122555</td>\n",
       "      <td>-0.448688</td>\n",
       "      <td>-1.035074</td>\n",
       "      <td>-0.083111</td>\n",
       "      <td>0.255541</td>\n",
       "      <td>0.752630</td>\n",
       "      <td>-1.455736</td>\n",
       "      <td>-1.065043</td>\n",
       "      <td>-0.131891</td>\n",
       "      <td>-0.385809</td>\n",
       "      <td>0.696795</td>\n",
       "      <td>1.614357</td>\n",
       "      <td>-0.236935</td>\n",
       "      <td>-0.645728</td>\n",
       "      <td>0.516036</td>\n",
       "      <td>0.122319</td>\n",
       "      <td>0.393191</td>\n",
       "      <td>0.988101</td>\n",
       "      <td>-0.012009</td>\n",
       "      <td>-0.628095</td>\n",
       "      <td>-0.158187</td>\n",
       "      <td>-0.031725</td>\n",
       "      <td>-0.003152</td>\n",
       "      <td>-0.039081</td>\n",
       "      <td>90.00</td>\n",
       "      <td>0</td>\n",
       "    </tr>\n",
       "    <tr>\n",
       "      <th>192288</th>\n",
       "      <td>129624.0</td>\n",
       "      <td>-1.502534</td>\n",
       "      <td>-1.588719</td>\n",
       "      <td>-0.842557</td>\n",
       "      <td>-0.887508</td>\n",
       "      <td>2.660843</td>\n",
       "      <td>-0.146116</td>\n",
       "      <td>0.484404</td>\n",
       "      <td>0.115437</td>\n",
       "      <td>-2.331476</td>\n",
       "      <td>0.474980</td>\n",
       "      <td>0.555261</td>\n",
       "      <td>-0.103417</td>\n",
       "      <td>-0.404218</td>\n",
       "      <td>1.066011</td>\n",
       "      <td>-0.031189</td>\n",
       "      <td>-3.146715</td>\n",
       "      <td>0.854688</td>\n",
       "      <td>0.377649</td>\n",
       "      <td>-0.411955</td>\n",
       "      <td>0.214356</td>\n",
       "      <td>0.260526</td>\n",
       "      <td>0.675566</td>\n",
       "      <td>0.107076</td>\n",
       "      <td>-1.578787</td>\n",
       "      <td>0.511075</td>\n",
       "      <td>1.278860</td>\n",
       "      <td>-0.050942</td>\n",
       "      <td>0.103535</td>\n",
       "      <td>152.39</td>\n",
       "      <td>0</td>\n",
       "    </tr>\n",
       "  </tbody>\n",
       "</table>\n",
       "</div>"
      ],
      "text/plain": [
       "            Time        V1        V2        V3        V4        V5        V6  \\\n",
       "282084  170643.0 -0.513035  1.588590 -0.315327  3.215408  1.101571 -0.377689   \n",
       "217003  140724.0  2.052141 -0.152083 -1.093007  0.421538 -0.226477 -1.159381   \n",
       "163319  115848.0 -0.935602  0.921283  0.763320  0.821401  0.871227  0.584041   \n",
       "197423  132008.0  2.057468 -1.283770 -0.703883 -0.898889 -1.122555 -0.448688   \n",
       "192288  129624.0 -1.502534 -1.588719 -0.842557 -0.887508  2.660843 -0.146116   \n",
       "\n",
       "              V7        V8        V9       V10       V11       V12       V13  \\\n",
       "282084  0.936047  0.245024 -1.906095  0.892176 -1.479236 -0.579995 -0.734827   \n",
       "217003  0.083787 -0.236712  0.733189  0.102199 -0.908253 -0.220054 -1.215880   \n",
       "163319  0.840123  0.185507 -0.711876 -0.721229  0.642025 -0.335462 -0.918843   \n",
       "197423 -1.035074 -0.083111  0.255541  0.752630 -1.455736 -1.065043 -0.131891   \n",
       "192288  0.484404  0.115437 -2.331476  0.474980  0.555261 -0.103417 -0.404218   \n",
       "\n",
       "             V14       V15       V16       V17       V18       V19       V20  \\\n",
       "282084  0.777403 -1.624470  0.153412 -0.177476 -0.556451 -1.105617 -0.354584   \n",
       "217003  0.535076  0.227417 -0.103904 -0.158764 -0.801972  0.082789 -0.312060   \n",
       "163319 -0.798319  0.226182  0.275768  0.516931  1.327636  0.919857  0.090190   \n",
       "197423 -0.385809  0.696795  1.614357 -0.236935 -0.645728  0.516036  0.122319   \n",
       "192288  1.066011 -0.031189 -3.146715  0.854688  0.377649 -0.411955  0.214356   \n",
       "\n",
       "             V21       V22       V23       V24       V25       V26       V27  \\\n",
       "282084  0.235993  0.483079  0.101931  1.119802 -1.005809 -0.190188 -0.028427   \n",
       "217003 -0.297944 -0.780066  0.362093 -0.048148 -0.356691  0.205318 -0.075936   \n",
       "163319 -0.029156 -0.154689 -0.360464  0.150339  0.647455 -0.427112 -0.027072   \n",
       "197423  0.393191  0.988101 -0.012009 -0.628095 -0.158187 -0.031725 -0.003152   \n",
       "192288  0.260526  0.675566  0.107076 -1.578787  0.511075  1.278860 -0.050942   \n",
       "\n",
       "             V28  Amount  Class  \n",
       "282084  0.195387   10.65      0  \n",
       "217003 -0.063205    1.98      0  \n",
       "163319  0.119150   92.45      0  \n",
       "197423 -0.039081   90.00      0  \n",
       "192288  0.103535  152.39      0  "
      ]
     },
     "execution_count": 15,
     "metadata": {},
     "output_type": "execute_result"
    }
   ],
   "source": [
    "new_dataset.head()"
   ]
  },
  {
   "cell_type": "code",
   "execution_count": 16,
   "id": "1b61f033",
   "metadata": {},
   "outputs": [
    {
     "data": {
      "text/plain": [
       "0    492\n",
       "1    492\n",
       "Name: Class, dtype: int64"
      ]
     },
     "execution_count": 16,
     "metadata": {},
     "output_type": "execute_result"
    }
   ],
   "source": [
    "new_dataset['Class'].value_counts()"
   ]
  },
  {
   "cell_type": "code",
   "execution_count": 17,
   "id": "130ed97f",
   "metadata": {},
   "outputs": [
    {
     "data": {
      "text/plain": [
       "Text(0, 0.5, 'Frequency')"
      ]
     },
     "execution_count": 17,
     "metadata": {},
     "output_type": "execute_result"
    },
    {
     "data": {
      "image/png": "[encoded data removed]",
      "text/plain": [
       "<Figure size 432x288 with 1 Axes>"
      ]
     },
     "metadata": {
      "needs_background": "light"
     },
     "output_type": "display_data"
    }
   ],
   "source": [
    "LABELS = [\"Normal\", \"Fraud\"]\n",
    "count_classes = pd.value_counts(new_dataset['Class'], sort = True)\n",
    "count_classes.plot(kind = 'bar', rot=0)\n",
    "plt.title(\"Transaction Class Distribution\")\n",
    "plt.xticks(range(2), LABELS)\n",
    "plt.xlabel(\"Class\")\n",
    "plt.ylabel(\"Frequency\")"
   ]
  },
  {
   "cell_type": "code",
   "execution_count": 18,
   "id": "002df656",
   "metadata": {},
   "outputs": [
    {
     "data": {
      "text/html": [
       "<div>\n",
       "<style scoped>\n",
       "    .dataframe tbody tr th:only-of-type {\n",
       "        vertical-align: middle;\n",
       "    }\n",
       "\n",
       "    .dataframe tbody tr th {\n",
       "        vertical-align: top;\n",
       "    }\n",
       "\n",
       "    .dataframe thead th {\n",
       "        text-align: right;\n",
       "    }\n",
       "</style>\n",
       "<table border=\"1\" class=\"dataframe\">\n",
       "  <thead>\n",
       "    <tr style=\"text-align: right;\">\n",
       "      <th></th>\n",
       "      <th>Time</th>\n",
       "      <th>V1</th>\n",
       "      <th>V2</th>\n",
       "      <th>V3</th>\n",
       "      <th>V4</th>\n",
       "      <th>V5</th>\n",
       "      <th>V6</th>\n",
       "      <th>V7</th>\n",
       "      <th>V8</th>\n",
       "      <th>V9</th>\n",
       "      <th>V10</th>\n",
       "      <th>V11</th>\n",
       "      <th>V12</th>\n",
       "      <th>V13</th>\n",
       "      <th>V14</th>\n",
       "      <th>V15</th>\n",
       "      <th>V16</th>\n",
       "      <th>V17</th>\n",
       "      <th>V18</th>\n",
       "      <th>V19</th>\n",
       "      <th>V20</th>\n",
       "      <th>V21</th>\n",
       "      <th>V22</th>\n",
       "      <th>V23</th>\n",
       "      <th>V24</th>\n",
       "      <th>V25</th>\n",
       "      <th>V26</th>\n",
       "      <th>V27</th>\n",
       "      <th>V28</th>\n",
       "      <th>Amount</th>\n",
       "    </tr>\n",
       "    <tr>\n",
       "      <th>Class</th>\n",
       "      <th></th>\n",
       "      <th></th>\n",
       "      <th></th>\n",
       "      <th></th>\n",
       "      <th></th>\n",
       "      <th></th>\n",
       "      <th></th>\n",
       "      <th></th>\n",
       "      <th></th>\n",
       "      <th></th>\n",
       "      <th></th>\n",
       "      <th></th>\n",
       "      <th></th>\n",
       "      <th></th>\n",
       "      <th></th>\n",
       "      <th></th>\n",
       "      <th></th>\n",
       "      <th></th>\n",
       "      <th></th>\n",
       "      <th></th>\n",
       "      <th></th>\n",
       "      <th></th>\n",
       "      <th></th>\n",
       "      <th></th>\n",
       "      <th></th>\n",
       "      <th></th>\n",
       "      <th></th>\n",
       "      <th></th>\n",
       "      <th></th>\n",
       "      <th></th>\n",
       "    </tr>\n",
       "  </thead>\n",
       "  <tbody>\n",
       "    <tr>\n",
       "      <th>0</th>\n",
       "      <td>96087.221545</td>\n",
       "      <td>0.048794</td>\n",
       "      <td>0.053983</td>\n",
       "      <td>0.010007</td>\n",
       "      <td>0.044424</td>\n",
       "      <td>-0.056473</td>\n",
       "      <td>-0.131113</td>\n",
       "      <td>0.049163</td>\n",
       "      <td>0.052982</td>\n",
       "      <td>0.066960</td>\n",
       "      <td>-0.032386</td>\n",
       "      <td>0.042228</td>\n",
       "      <td>-0.051969</td>\n",
       "      <td>-0.067293</td>\n",
       "      <td>0.046683</td>\n",
       "      <td>-0.032776</td>\n",
       "      <td>0.084250</td>\n",
       "      <td>0.023791</td>\n",
       "      <td>0.064424</td>\n",
       "      <td>-0.047505</td>\n",
       "      <td>0.047280</td>\n",
       "      <td>0.035859</td>\n",
       "      <td>0.041547</td>\n",
       "      <td>-0.014194</td>\n",
       "      <td>-0.012103</td>\n",
       "      <td>0.024481</td>\n",
       "      <td>0.050089</td>\n",
       "      <td>0.006740</td>\n",
       "      <td>0.009373</td>\n",
       "      <td>92.945122</td>\n",
       "    </tr>\n",
       "    <tr>\n",
       "      <th>1</th>\n",
       "      <td>80746.806911</td>\n",
       "      <td>-4.771948</td>\n",
       "      <td>3.623778</td>\n",
       "      <td>-7.033281</td>\n",
       "      <td>4.542029</td>\n",
       "      <td>-3.151225</td>\n",
       "      <td>-1.397737</td>\n",
       "      <td>-5.568731</td>\n",
       "      <td>0.570636</td>\n",
       "      <td>-2.581123</td>\n",
       "      <td>-5.676883</td>\n",
       "      <td>3.800173</td>\n",
       "      <td>-6.259393</td>\n",
       "      <td>-0.109334</td>\n",
       "      <td>-6.971723</td>\n",
       "      <td>-0.092929</td>\n",
       "      <td>-4.139946</td>\n",
       "      <td>-6.665836</td>\n",
       "      <td>-2.246308</td>\n",
       "      <td>0.680659</td>\n",
       "      <td>0.372319</td>\n",
       "      <td>0.713588</td>\n",
       "      <td>0.014049</td>\n",
       "      <td>-0.040308</td>\n",
       "      <td>-0.105130</td>\n",
       "      <td>0.041449</td>\n",
       "      <td>0.051648</td>\n",
       "      <td>0.170575</td>\n",
       "      <td>0.075667</td>\n",
       "      <td>122.211321</td>\n",
       "    </tr>\n",
       "  </tbody>\n",
       "</table>\n",
       "</div>"
      ],
      "text/plain": [
       "               Time        V1        V2        V3        V4        V5  \\\n",
       "Class                                                                   \n",
       "0      96087.221545  0.048794  0.053983  0.010007  0.044424 -0.056473   \n",
       "1      80746.806911 -4.771948  3.623778 -7.033281  4.542029 -3.151225   \n",
       "\n",
       "             V6        V7        V8        V9       V10       V11       V12  \\\n",
       "Class                                                                         \n",
       "0     -0.131113  0.049163  0.052982  0.066960 -0.032386  0.042228 -0.051969   \n",
       "1     -1.397737 -5.568731  0.570636 -2.581123 -5.676883  3.800173 -6.259393   \n",
       "\n",
       "            V13       V14       V15       V16       V17       V18       V19  \\\n",
       "Class                                                                         \n",
       "0     -0.067293  0.046683 -0.032776  0.084250  0.023791  0.064424 -0.047505   \n",
       "1     -0.109334 -6.971723 -0.092929 -4.139946 -6.665836 -2.246308  0.680659   \n",
       "\n",
       "            V20       V21       V22       V23       V24       V25       V26  \\\n",
       "Class                                                                         \n",
       "0      0.047280  0.035859  0.041547 -0.014194 -0.012103  0.024481  0.050089   \n",
       "1      0.372319  0.713588  0.014049 -0.040308 -0.105130  0.041449  0.051648   \n",
       "\n",
       "            V27       V28      Amount  \n",
       "Class                                  \n",
       "0      0.006740  0.009373   92.945122  \n",
       "1      0.170575  0.075667  122.211321  "
      ]
     },
     "execution_count": 18,
     "metadata": {},
     "output_type": "execute_result"
    }
   ],
   "source": [
    "new_dataset.groupby('Class').mean()"
   ]
  },
  {
   "cell_type": "markdown",
   "id": "1e84d363",
   "metadata": {},
   "source": [
    "### Splitting the data into Features & Targets"
   ]
  },
  {
   "cell_type": "code",
   "execution_count": 19,
   "id": "0c8b8d5e",
   "metadata": {},
   "outputs": [],
   "source": [
    "X = new_dataset.drop(columns='Class', axis=1)\n",
    "Y = new_dataset['Class']"
   ]
  },
  {
   "cell_type": "code",
   "execution_count": 20,
   "id": "a3a81a14",
   "metadata": {},
   "outputs": [
    {
     "name": "stdout",
     "output_type": "stream",
     "text": [
      "            Time        V1        V2        V3        V4        V5        V6  \\\n",
      "282084  170643.0 -0.513035  1.588590 -0.315327  3.215408  1.101571 -0.377689   \n",
      "217003  140724.0  2.052141 -0.152083 -1.093007  0.421538 -0.226477 -1.159381   \n",
      "163319  115848.0 -0.935602  0.921283  0.763320  0.821401  0.871227  0.584041   \n",
      "197423  132008.0  2.057468 -1.283770 -0.703883 -0.898889 -1.122555 -0.448688   \n",
      "192288  129624.0 -1.502534 -1.588719 -0.842557 -0.887508  2.660843 -0.146116   \n",
      "...          ...       ...       ...       ...       ...       ...       ...   \n",
      "279863  169142.0 -1.927883  1.125653 -4.518331  1.749293 -1.566487 -2.010494   \n",
      "280143  169347.0  1.378559  1.289381 -5.004247  1.411850  0.442581 -1.326536   \n",
      "280149  169351.0 -0.676143  1.126366 -2.213700  0.468308 -1.120541 -0.003346   \n",
      "281144  169966.0 -3.113832  0.585864 -5.399730  1.817092 -0.840618 -2.943548   \n",
      "281674  170348.0  1.991976  0.158476 -2.583441  0.408670  1.151147 -0.096695   \n",
      "\n",
      "              V7        V8        V9       V10       V11       V12       V13  \\\n",
      "282084  0.936047  0.245024 -1.906095  0.892176 -1.479236 -0.579995 -0.734827   \n",
      "217003  0.083787 -0.236712  0.733189  0.102199 -0.908253 -0.220054 -1.215880   \n",
      "163319  0.840123  0.185507 -0.711876 -0.721229  0.642025 -0.335462 -0.918843   \n",
      "197423 -1.035074 -0.083111  0.255541  0.752630 -1.455736 -1.065043 -0.131891   \n",
      "192288  0.484404  0.115437 -2.331476  0.474980  0.555261 -0.103417 -0.404218   \n",
      "...          ...       ...       ...       ...       ...       ...       ...   \n",
      "279863 -0.882850  0.697211 -2.064945 -5.587794  2.115795 -5.417424 -1.235123   \n",
      "280143 -1.413170  0.248525 -1.127396 -3.232153  2.858466 -3.096915 -0.792532   \n",
      "280149 -2.234739  1.210158 -0.652250 -3.463891  1.794969 -2.775022 -0.418950   \n",
      "281144 -2.208002  1.058733 -1.632333 -5.245984  1.933520 -5.030465 -1.127455   \n",
      "281674  0.223050 -0.068384  0.577829 -0.888722  0.491140  0.728903  0.380428   \n",
      "\n",
      "             V14       V15       V16       V17       V18       V19       V20  \\\n",
      "282084  0.777403 -1.624470  0.153412 -0.177476 -0.556451 -1.105617 -0.354584   \n",
      "217003  0.535076  0.227417 -0.103904 -0.158764 -0.801972  0.082789 -0.312060   \n",
      "163319 -0.798319  0.226182  0.275768  0.516931  1.327636  0.919857  0.090190   \n",
      "197423 -0.385809  0.696795  1.614357 -0.236935 -0.645728  0.516036  0.122319   \n",
      "192288  1.066011 -0.031189 -3.146715  0.854688  0.377649 -0.411955  0.214356   \n",
      "...          ...       ...       ...       ...       ...       ...       ...   \n",
      "279863 -6.665177  0.401701 -2.897825 -4.570529 -1.315147  0.391167  1.252967   \n",
      "280143 -5.210141 -0.613803 -2.155297 -3.267116 -0.688505  0.737657  0.226138   \n",
      "280149 -4.057162 -0.712616 -1.603015 -5.035326 -0.507000  0.266272  0.247968   \n",
      "281144 -6.416628  0.141237 -2.549498 -4.614717 -1.478138 -0.035480  0.306271   \n",
      "281674 -1.948883 -0.832498  0.519436  0.903562  1.197315  0.593509 -0.017652   \n",
      "\n",
      "             V21       V22       V23       V24       V25       V26       V27  \\\n",
      "282084  0.235993  0.483079  0.101931  1.119802 -1.005809 -0.190188 -0.028427   \n",
      "217003 -0.297944 -0.780066  0.362093 -0.048148 -0.356691  0.205318 -0.075936   \n",
      "163319 -0.029156 -0.154689 -0.360464  0.150339  0.647455 -0.427112 -0.027072   \n",
      "197423  0.393191  0.988101 -0.012009 -0.628095 -0.158187 -0.031725 -0.003152   \n",
      "192288  0.260526  0.675566  0.107076 -1.578787  0.511075  1.278860 -0.050942   \n",
      "...          ...       ...       ...       ...       ...       ...       ...   \n",
      "279863  0.778584 -0.319189  0.639419 -0.294885  0.537503  0.788395  0.292680   \n",
      "280143  0.370612  0.028234 -0.145640 -0.081049  0.521875  0.739467  0.389152   \n",
      "280149  0.751826  0.834108  0.190944  0.032070 -0.739695  0.471111  0.385107   \n",
      "281144  0.583276 -0.269209 -0.456108 -0.183659 -0.328168  0.606116  0.884876   \n",
      "281674 -0.164350 -0.295135 -0.072173 -0.450261  0.313267 -0.289617  0.002988   \n",
      "\n",
      "             V28  Amount  \n",
      "282084  0.195387   10.65  \n",
      "217003 -0.063205    1.98  \n",
      "163319  0.119150   92.45  \n",
      "197423 -0.039081   90.00  \n",
      "192288  0.103535  152.39  \n",
      "...          ...     ...  \n",
      "279863  0.147968  390.00  \n",
      "280143  0.186637    0.76  \n",
      "280149  0.194361   77.89  \n",
      "281144 -0.253700  245.00  \n",
      "281674 -0.015309   42.53  \n",
      "\n",
      "[984 rows x 30 columns]\n"
     ]
    }
   ],
   "source": [
    "print(X)"
   ]
  },
  {
   "cell_type": "code",
   "execution_count": 21,
   "id": "5e09de25",
   "metadata": {},
   "outputs": [
    {
     "name": "stdout",
     "output_type": "stream",
     "text": [
      "282084    0\n",
      "217003    0\n",
      "163319    0\n",
      "197423    0\n",
      "192288    0\n",
      "         ..\n",
      "279863    1\n",
      "280143    1\n",
      "280149    1\n",
      "281144    1\n",
      "281674    1\n",
      "Name: Class, Length: 984, dtype: int64\n"
     ]
    }
   ],
   "source": [
    "print(Y)"
   ]
  },
  {
   "cell_type": "markdown",
   "id": "285e7713",
   "metadata": {},
   "source": [
    "### Split the data into Training data & Testing Data"
   ]
  },
  {
   "cell_type": "code",
   "execution_count": 23,
   "id": "4b977eee",
   "metadata": {},
   "outputs": [],
   "source": [
    "from sklearn.model_selection import train_test_split\n",
    "X_train, X_test, Y_train, Y_test = train_test_split(X, Y, test_size=0.2, stratify=Y, random_state=2)"
   ]
  },
  {
   "cell_type": "code",
   "execution_count": 24,
   "id": "486390ef",
   "metadata": {},
   "outputs": [
    {
     "name": "stdout",
     "output_type": "stream",
     "text": [
      "(984, 30) (787, 30) (197, 30)\n"
     ]
    }
   ],
   "source": [
    "print(X.shape, X_train.shape, X_test.shape)"
   ]
  },
  {
   "cell_type": "markdown",
   "id": "20f0eb99",
   "metadata": {},
   "source": [
    "### Model Training"
   ]
  },
  {
   "cell_type": "markdown",
   "id": "a96aeee3",
   "metadata": {},
   "source": [
    "#### Logistic Regression"
   ]
  },
  {
   "cell_type": "code",
   "execution_count": 25,
   "id": "26ef5e5f",
   "metadata": {},
   "outputs": [],
   "source": [
    "from sklearn.linear_model import LogisticRegression\n",
    "from sklearn.metrics import accuracy_score"
   ]
  },
  {
   "cell_type": "code",
   "execution_count": 26,
   "id": "69afc410",
   "metadata": {},
   "outputs": [],
   "source": [
    "model = LogisticRegression()"
   ]
  },
  {
   "cell_type": "code",
   "execution_count": 27,
   "id": "61f47189",
   "metadata": {},
   "outputs": [
    {
     "data": {
      "text/plain": [
       "LogisticRegression()"
      ]
     },
     "execution_count": 27,
     "metadata": {},
     "output_type": "execute_result"
    }
   ],
   "source": [
    "model.fit(X_train, Y_train)"
   ]
  },
  {
   "cell_type": "code",
   "execution_count": 28,
   "id": "7b7ae79a",
   "metadata": {},
   "outputs": [],
   "source": [
    "# accuracy on training data\n",
    "X_train_prediction = model.predict(X_train)\n",
    "training_data_accuracy = accuracy_score(X_train_prediction, Y_train)"
   ]
  },
  {
   "cell_type": "code",
   "execution_count": 29,
   "id": "ce4f1c8c",
   "metadata": {},
   "outputs": [
    {
     "name": "stdout",
     "output_type": "stream",
     "text": [
      "Accuracy on Training data :  0.9440914866581956\n"
     ]
    }
   ],
   "source": [
    "print('Accuracy on Training data : ', training_data_accuracy)"
   ]
  },
  {
   "cell_type": "code",
   "execution_count": 30,
   "id": "36ce84d3",
   "metadata": {},
   "outputs": [],
   "source": [
    "# accuracy on test data\n",
    "X_test_prediction = model.predict(X_test)\n",
    "test_data_accuracy = accuracy_score(X_test_prediction, Y_test)"
   ]
  },
  {
   "cell_type": "code",
   "execution_count": 31,
   "id": "1b21fbf9",
   "metadata": {},
   "outputs": [
    {
     "name": "stdout",
     "output_type": "stream",
     "text": [
      "Accuracy score on Test Data :  0.9187817258883249\n"
     ]
    }
   ],
   "source": [
    "print('Accuracy score on Test Data : ', test_data_accuracy)"
   ]
  },
  {
   "cell_type": "code",
   "execution_count": 40,
   "id": "5fb8fb7f",
   "metadata": {},
   "outputs": [
    {
     "name": "stdout",
     "output_type": "stream",
     "text": [
      "Classification Report: \n",
      "               precision    recall  f1-score   support\n",
      "\n",
      "           0       0.89      0.96      0.92        99\n",
      "           1       0.96      0.88      0.91        98\n",
      "\n",
      "    accuracy                           0.92       197\n",
      "   macro avg       0.92      0.92      0.92       197\n",
      "weighted avg       0.92      0.92      0.92       197\n",
      "\n",
      "----------------------------------------------------------------------------------------------------\n",
      "\n",
      "Accuracy Score:  0.9187817258883249\n",
      "----------------------------------------------------------------------------------------------------\n",
      "\n"
     ]
    },
    {
     "data": {
      "image/png": "[encoded data removed]",
      "text/plain": [
       "<Figure size 720x720 with 2 Axes>"
      ]
     },
     "metadata": {
      "needs_background": "light"
     },
     "output_type": "display_data"
    }
   ],
   "source": [
    "## prediction\n",
    "pred = model.predict(X_test)\n",
    "\n",
    "print('Classification Report: \\n', classification_report(Y_test, pred))\n",
    "print(\"-\" * 100)\n",
    "print()\n",
    "print('Accuracy Score: ', accuracy_score(Y_test, pred))\n",
    "print(\"-\" * 100)\n",
    "print()\n",
    "plt.figure(figsize=(10, 10))\n",
    "sns.heatmap(confusion_matrix(Y_test, pred), annot=True, fmt='g');"
   ]
  },
  {
   "cell_type": "code",
   "execution_count": 33,
   "id": "01cc8ca0",
   "metadata": {},
   "outputs": [],
   "source": [
    "from sklearn.ensemble import RandomForestClassifier\n",
    "from sklearn.metrics import accuracy_score, confusion_matrix, classification_report"
   ]
  },
  {
   "cell_type": "code",
   "execution_count": 35,
   "id": "5d07c123",
   "metadata": {},
   "outputs": [
    {
     "data": {
      "text/plain": [
       "RandomForestClassifier()"
      ]
     },
     "execution_count": 35,
     "metadata": {},
     "output_type": "execute_result"
    }
   ],
   "source": [
    "rf = RandomForestClassifier()\n",
    "\n",
    "## fit on training data\n",
    "rf.fit(X_train, Y_train)"
   ]
  },
  {
   "cell_type": "code",
   "execution_count": 38,
   "id": "5229cbd4",
   "metadata": {},
   "outputs": [
    {
     "name": "stdout",
     "output_type": "stream",
     "text": [
      "Classification Report: \n",
      "               precision    recall  f1-score   support\n",
      "\n",
      "           0       0.89      0.96      0.92        99\n",
      "           1       0.96      0.88      0.91        98\n",
      "\n",
      "    accuracy                           0.92       197\n",
      "   macro avg       0.92      0.92      0.92       197\n",
      "weighted avg       0.92      0.92      0.92       197\n",
      "\n",
      "----------------------------------------------------------------------------------------------------\n",
      "\n",
      "Accuracy Score:  0.9187817258883249\n",
      "----------------------------------------------------------------------------------------------------\n",
      "\n"
     ]
    },
    {
     "data": {
      "image/png": "[encoded data removed]",
      "text/plain": [
       "<Figure size 720x720 with 2 Axes>"
      ]
     },
     "metadata": {
      "needs_background": "light"
     },
     "output_type": "display_data"
    }
   ],
   "source": [
    "pred = rf.predict(X_test)\n",
    "\n",
    "\n",
    "print('Classification Report: \\n', classification_report(Y_test, pred))\n",
    "print(\"-\" * 100)\n",
    "print()\n",
    "print('Accuracy Score: ', accuracy_score(Y_test, pred))\n",
    "print(\"-\" * 100)\n",
    "print()\n",
    "plt.figure(figsize=(10, 10))\n",
    "sns.heatmap(confusion_matrix(Y_test, pred), annot=True, fmt='g');"
   ]
  },
  {
   "cell_type": "code",
   "execution_count": null,
   "id": "41d2a110",
   "metadata": {},
   "outputs": [],
   "source": []
  }
 ],
 "metadata": {
  "kernelspec": {
   "display_name": "Python 3 (ipykernel)",
   "language": "python",
   "name": "python3"
  },
  "language_info": {
   "codemirror_mode": {
    "name": "ipython",
    "version": 3
   },
   "file_extension": ".py",
   "mimetype": "text/x-python",
   "name": "python",
   "nbconvert_exporter": "python",
   "pygments_lexer": "ipython3",
   "version": "3.9.6"
  }
 },
 "nbformat": 4,
 "nbformat_minor": 5
}
